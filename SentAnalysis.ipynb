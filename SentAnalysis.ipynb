{
 "cells": [
  {
   "cell_type": "code",
   "execution_count": 3,
   "metadata": {},
   "outputs": [
    {
     "name": "stdout",
     "output_type": "stream",
     "text": [
      "#Zelda35th #sundayvibes #1YearOfOldMe #OldMeGlowUp #ARSMCI Bellerin Scalise Arsenal Elneny Malcolm X Dasani Tierney Michael Che Saka Happy 35th Xhaka Don Jr. Nina Simone Arteta Auba Ocarina of Time Lukaku CPAC RENEW GLITCH TECHS Ian Desmond Claudette Colvin John Goodman John Lewis The Legend of Zelda Majora's Mask Sonic Riders Gaza Jojo Siwa Mahrez NFL MVP Laca Lenglet Lala Link to the Past Odegaard astralis Milan Link's Awakening Good Sunday My Sunday Meet the Press Ceballos Peter Navarro Jiminie West Ham\n",
      "4 culture shifts organizations are embracing in 2021 https://t.co/4dID0u4njh #BellevueUniversity #BUBruins #thefutureofwork\n",
      "Sentiment(polarity=0.0, subjectivity=0.0)\n",
      "7 essentials for looking your best in video conference calls https://t.co/BxBlCQYkpI #BUBruins #BellevueUniversity #Fridayfocus\n",
      "Sentiment(polarity=1.0, subjectivity=0.3)\n",
      "How to supercharge your emotional intelligence using body language https://t.co/Ko4SmEldQa #BellevueUniversity #BUBruins #EmotionalIntelligence\n",
      "Sentiment(polarity=0.0, subjectivity=0.65)\n",
      "9 Ways to Keep Growing in Your Career During COVID-19 https://t.co/IxV5u8pHND #BUBruins #BellevueUniversity #ThursdayThoughts\n",
      "Sentiment(polarity=0.0, subjectivity=0.0)\n",
      "Networking During The Pandemic: How People Who Barely Know You Can Help Accelerate Your Career https://t.co/xY1qJm7G8n #BellevueUniversity #bubruins #networkingwednesday\n",
      "Sentiment(polarity=0.05, subjectivity=0.1)\n",
      "8 jobs recruiters cannot fill fast enough in 2021 (and where you can get one) https://t.co/5N4yhdOOAS #BellevueUniversity #BUJobs\n",
      "Sentiment(polarity=0.1, subjectivity=0.55)\n",
      "If this food is part of your morning routine, your whole day could be ruined  https://t.co/xwn3UWfCZe #morningroutine #bubruins #bellevueuniversity\n",
      "Sentiment(polarity=0.2, subjectivity=0.4)\n",
      "RT @TeacherEdBU: Trying to stay warm + attending class on Zoom + during the rolling power outages in the Polar Vortex= Teachers and #future…\n",
      "Sentiment(polarity=0.2583333333333333, subjectivity=0.425)\n",
      "Trying to stay warm + attending class on Zoom + during the rolling power outages in the Polar Vortex= Teachers and #futureteachers do it all! #teachereducation #teacherpreparation #bellevueuniversity #edtech #onlinelearning #zoomuniversity https://t.co/DvZ0Q7OTiP\n",
      "Sentiment(polarity=0.24791666666666667, subjectivity=0.425)\n",
      "This one 11-minute exercise can combat the effects of sitting all day https://t.co/IU32eTl2u5 #BUBruins #BellevueUniversity #TipTuesday\n",
      "Sentiment(polarity=0.0, subjectivity=0.0)\n",
      "How To Hit Refresh On Your Personal Brand https://t.co/wMsigJAZUa  #BellevueUniversity #BUBruins #BrandyourselfMonday\n",
      "Sentiment(polarity=0.0, subjectivity=0.3)\n",
      "3 ways procrastination affected my life — and how I’ve overcome it https://t.co/qQGlyMeJ8x #bubruins #BellevueUniversity #BeatProcrastination\n",
      "Sentiment(polarity=0.0, subjectivity=0.0)\n"
     ]
    }
   ],
   "source": [
    "#import findspark\n",
    "#from pyspark import SparkContext\n",
    "#from pyspark.sql import SparkSession\n",
    "import tweepy\n",
    "from textblob import TextBlob\n",
    "\n",
    "\n",
    "\n",
    "#findspark.init()\n",
    "#sc = SparkContext(appName=\"MyFirstApp\")\n",
    "#spark = SparkSession(sc)\n",
    "\n",
    "#Twitter api info\n",
    "consumer_key = \"Q6XdRVr3ID79K4aVABo5yobyb\"\n",
    "consumer_secret = \"pWDQwzeQUNWgH3qrdvL1JjBHSocqRqCIIYSbSlheJiRpDOeA56\"\n",
    "access_token = \"1026605831561916417-PRfMx4SKHrfoDwwg6raql9mVSgySgm\"\n",
    "access_token_secret = \"HSf5lvd6H5c1YY57GyCjBbJ3Lii3FA74ftSTLSx2m0zV5\"\n",
    "\n",
    "auth = tweepy.OAuthHandler(consumer_key, consumer_secret)\n",
    "auth.set_access_token(access_token, access_token_secret)\n",
    "api = tweepy.API(auth,wait_on_rate_limit=True)\n",
    "#deciding what location to run this scraper in\n",
    "trends1 = api.trends_place(23424977)\n",
    "data = trends1[0]\n",
    "trends = data['trends']\n",
    "names = [trend['name'] for trend in trends]\n",
    "trendsName = ' '.join(names)\n",
    "print(trendsName)\n",
    "\n",
    "#trending tweets with this hashtag will be scraped\n",
    "searchString = \"#BellevueUniversity\"\n",
    "\n",
    "cursor = tweepy.Cursor(api.search, q=searchString, count=20, lang=\"en\", tweet_mode='extended')\n",
    "Subjectivity = []\n",
    "Polarity = []\n",
    "maxCount = 100\n",
    "count = 0\n",
    "fileName = \"tweets.csv\"\n",
    "for tweet in cursor.items():\n",
    "    f1 = open(fileName, 'a')\n",
    "    analysis = TextBlob(tweet.full_text)\n",
    "    if str(tweet.full_text) != \"None\":\n",
    "        f1.write(tweet.full_text)\n",
    "        f1.write(\"\\n\")\n",
    "        f1.write(str(analysis.sentiment))\n",
    "        f1.write(\"\\n\")\n",
    "        #f1.write(\"\\n\")\n",
    "#taking out all the extra stuff that doesn't really matter for sentiment analysis\n",
    "    #elif str(tweet.geo) != \"None\":\n",
    "        #f1.write(str(tweet.geo))\n",
    "        #f1.write(\"\\n\")\n",
    "    #elif str(tweet.coordinates) != \"None\":\n",
    "        #f1.write(str(tweet.coordinates))\n",
    "        #f1.write(\"\\n\")\n",
    "    #elif str(tweet.place) != \"None\":\n",
    "        #f1.write(str(tweet.place))\n",
    "        #f1.write(\"\\n\")\n",
    "    #elif str(tweet.user.location) != \"None\":\n",
    "        #f1.write(str(tweet.user.location))\n",
    "        #f1.write(\"\\n\")\n",
    "    #elif str(tweet.user.geo_enabled) != \"None\":\n",
    "        #f1.write(str(tweet.user.geo_enabled))\n",
    "        #f1.write(\"\\n\")\n",
    "    #elif str(tweet.created_at) != \"None\":\n",
    "        #f1.write(str(tweet.created_at))\n",
    "    print(tweet.full_text)\n",
    "    analysis = TextBlob(tweet.full_text)\n",
    "    print(analysis.sentiment)\n",
    "    Polarity.append(analysis.sentiment.polarity)\n",
    "    Subjectivity.append(analysis.sentiment.subjectivity)\n",
    "\n",
    "\n",
    "    #print(tweet.geo)\n",
    "    #print(tweet.coordinates)\n",
    "    #print(tweet.place)\n",
    "    #print(tweet.user.location)\n",
    "    #print(tweet.user.geo_enabled)\n",
    "    #print(tweet.created_at)\n",
    "\n",
    "    count = count + 1\n",
    "    if count == maxCount:\n",
    "        break;\n",
    "#data = pd.read_csv('tweets.csv', error_bad_lines=False, engine=\"python\").reset_index(drop=True)\n",
    "#ser = pd.Series(data)\n",
    "#ser[\"Polarity\"] = Polarity\n",
    "#ser[\"Subjectivity\"] = Subjectivity\n",
    "#sc.stop()  # closing the spark session\n",
    "\n",
    "#pySpark\n",
    "\n"
   ]
  },
  {
   "cell_type": "code",
   "execution_count": 11,
   "metadata": {},
   "outputs": [
    {
     "name": "stdout",
     "output_type": "stream",
     "text": [
      "Processing /Users/juge/Library/Caches/pip/wheels/22/0b/40/fd3f795caaa1fb4c6cb738bc1f56100be1e57da95849bfc897/sklearn-0.0-py2.py3-none-any.whl\n",
      "Requirement already satisfied: scikit-learn in /Users/juge/opt/anaconda3/lib/python3.8/site-packages (from sklearn) (0.24.1)\n",
      "Requirement already satisfied: threadpoolctl>=2.0.0 in /Users/juge/opt/anaconda3/lib/python3.8/site-packages (from scikit-learn->sklearn) (2.1.0)\n",
      "Requirement already satisfied: scipy>=0.19.1 in /Users/juge/opt/anaconda3/lib/python3.8/site-packages (from scikit-learn->sklearn) (1.5.2)\n",
      "Requirement already satisfied: numpy>=1.13.3 in /Users/juge/opt/anaconda3/lib/python3.8/site-packages (from scikit-learn->sklearn) (1.19.2)\n",
      "Requirement already satisfied: joblib>=0.11 in /Users/juge/opt/anaconda3/lib/python3.8/site-packages (from scikit-learn->sklearn) (0.17.0)\n",
      "Installing collected packages: sklearn\n",
      "Successfully installed sklearn-0.0\n"
     ]
    }
   ],
   "source": [
    "import sys\n",
    "!{sys.executable} -m pip install sklearn"
   ]
  },
  {
   "cell_type": "code",
   "execution_count": 6,
   "metadata": {},
   "outputs": [],
   "source": [
    "import keras"
   ]
  },
  {
   "cell_type": "code",
   "execution_count": null,
   "metadata": {},
   "outputs": [],
   "source": []
  }
 ],
 "metadata": {
  "kernelspec": {
   "display_name": "Python 3",
   "language": "python",
   "name": "python3"
  },
  "language_info": {
   "codemirror_mode": {
    "name": "ipython",
    "version": 3
   },
   "file_extension": ".py",
   "mimetype": "text/x-python",
   "name": "python",
   "nbconvert_exporter": "python",
   "pygments_lexer": "ipython3",
   "version": "3.8.5"
  }
 },
 "nbformat": 4,
 "nbformat_minor": 4
}
