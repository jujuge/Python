{
 "cells": [
  {
   "cell_type": "code",
   "execution_count": 1,
   "metadata": {},
   "outputs": [],
   "source": [
    "import sqlite3"
   ]
  },
  {
   "cell_type": "code",
   "execution_count": 6,
   "metadata": {},
   "outputs": [],
   "source": [
    "conn = sqlite3.connect(\"petsdb\")"
   ]
  },
  {
   "cell_type": "code",
   "execution_count": 7,
   "metadata": {},
   "outputs": [
    {
     "name": "stdout",
     "output_type": "stream",
     "text": [
      "True\n"
     ]
    }
   ],
   "source": [
    "def is_opened(conn):\n",
    "    try:\n",
    "        conn.execute(\"SELECT * FROM persons LIMIT 1\")\n",
    "        return True\n",
    "    except sqlite3.ProgrammingError as e:\n",
    "        print(\"Connection closed {}\".format(e))\n",
    "        return False\n",
    "print(is_opened(conn))"
   ]
  },
  {
   "cell_type": "code",
   "execution_count": 8,
   "metadata": {},
   "outputs": [],
   "source": [
    "conn.close()"
   ]
  },
  {
   "cell_type": "code",
   "execution_count": 9,
   "metadata": {},
   "outputs": [
    {
     "name": "stdout",
     "output_type": "stream",
     "text": [
      "Connection closed Cannot operate on a closed database.\n",
      "False\n"
     ]
    }
   ],
   "source": [
    "print(is_opened(conn))"
   ]
  },
  {
   "cell_type": "code",
   "execution_count": 10,
   "metadata": {},
   "outputs": [],
   "source": [
    "conn = sqlite3.connect(\"petsdb\")\n",
    "c = conn.cursor()"
   ]
  },
  {
   "cell_type": "code",
   "execution_count": 13,
   "metadata": {},
   "outputs": [
    {
     "name": "stdout",
     "output_type": "stream",
     "text": [
      "There are 2 people aged 5\n",
      "There are 1 people aged 6\n",
      "There are 1 people aged 7\n",
      "There are 3 people aged 8\n",
      "There are 1 people aged 9\n",
      "There are 2 people aged 11\n",
      "There are 3 people aged 12\n",
      "There are 1 people aged 13\n",
      "There are 4 people aged 14\n",
      "There are 2 people aged 16\n",
      "There are 2 people aged 17\n",
      "There are 3 people aged 18\n",
      "There are 1 people aged 19\n",
      "There are 3 people aged 22\n",
      "There are 2 people aged 23\n",
      "There are 3 people aged 24\n",
      "There are 2 people aged 25\n",
      "There are 1 people aged 27\n",
      "There are 1 people aged 30\n",
      "There are 3 people aged 31\n",
      "There are 1 people aged 32\n",
      "There are 1 people aged 33\n",
      "There are 2 people aged 34\n",
      "There are 3 people aged 35\n",
      "There are 3 people aged 36\n",
      "There are 1 people aged 37\n",
      "There are 2 people aged 39\n",
      "There are 1 people aged 40\n",
      "There are 1 people aged 42\n",
      "There are 2 people aged 44\n",
      "There are 2 people aged 48\n",
      "There are 1 people aged 49\n",
      "There are 1 people aged 50\n",
      "There are 2 people aged 51\n",
      "There are 2 people aged 52\n",
      "There are 2 people aged 53\n",
      "There are 2 people aged 54\n",
      "There are 1 people aged 58\n",
      "There are 1 people aged 59\n",
      "There are 1 people aged 60\n",
      "There are 1 people aged 61\n",
      "There are 2 people aged 62\n",
      "There are 1 people aged 63\n",
      "There are 2 people aged 65\n",
      "There are 2 people aged 66\n",
      "There are 1 people aged 67\n",
      "There are 3 people aged 68\n",
      "There are 1 people aged 69\n",
      "There are 1 people aged 70\n",
      "There are 4 people aged 71\n",
      "There are 1 people aged 72\n",
      "There are 5 people aged 73\n",
      "There are 3 people aged 74\n"
     ]
    }
   ],
   "source": [
    "for ppl, age in c.execute(\"SELECT count(*), age FROM persons GROUP BY age\"):\n",
    "    print(\"There are {} people aged {}\".format(ppl, age))"
   ]
  },
  {
   "cell_type": "code",
   "execution_count": 26,
   "metadata": {},
   "outputs": [
    {
     "name": "stdout",
     "output_type": "stream",
     "text": [
      "AgeGroup - 73 - Count of People - 5\n"
     ]
    }
   ],
   "source": [
    "for pplCnt, ageGroup in c.execute(\"SELECT count(*), age FROM persons GROUP BY age ORDER BY count(*) DESC\"):\n",
    "    print(\"AgeGroup - {} - Count of People - {}\".format(ageGroup,pplCnt))\n",
    "    break"
   ]
  },
  {
   "cell_type": "code",
   "execution_count": 28,
   "metadata": {},
   "outputs": [
    {
     "name": "stdout",
     "output_type": "stream",
     "text": [
      "People Count with No Last Name -  (60,)\n",
      "First Names of people with No Last Name -  ('Erica',)\n",
      "First Names of people with No Last Name -  ('Jordi',)\n",
      "First Names of people with No Last Name -  ('Chasity',)\n",
      "First Names of people with No Last Name -  ('Gregg',)\n",
      "First Names of people with No Last Name -  ('Cary',)\n",
      "First Names of people with No Last Name -  ('Francisca',)\n",
      "First Names of people with No Last Name -  ('Raleigh',)\n",
      "First Names of people with No Last Name -  ('Maria',)\n",
      "First Names of people with No Last Name -  ('Mariane',)\n",
      "First Names of people with No Last Name -  ('Mona',)\n",
      "First Names of people with No Last Name -  ('Kayla',)\n",
      "First Names of people with No Last Name -  ('Karlie',)\n",
      "First Names of people with No Last Name -  ('Morris',)\n",
      "First Names of people with No Last Name -  ('Sandy',)\n",
      "First Names of people with No Last Name -  ('Hector',)\n",
      "First Names of people with No Last Name -  ('Hiram',)\n",
      "First Names of people with No Last Name -  ('Tressa',)\n",
      "First Names of people with No Last Name -  ('Berry',)\n",
      "First Names of people with No Last Name -  ('Pearline',)\n",
      "First Names of people with No Last Name -  ('Maynard',)\n",
      "First Names of people with No Last Name -  ('Dorian',)\n",
      "First Names of people with No Last Name -  ('Mylene',)\n",
      "First Names of people with No Last Name -  ('Lafayette',)\n",
      "First Names of people with No Last Name -  ('Tara',)\n",
      "First Names of people with No Last Name -  ('Destiny',)\n",
      "First Names of people with No Last Name -  ('Lesly',)\n",
      "First Names of people with No Last Name -  ('Perry',)\n",
      "First Names of people with No Last Name -  ('Maritza',)\n",
      "First Names of people with No Last Name -  ('Grant',)\n",
      "First Names of people with No Last Name -  ('Laury',)\n",
      "First Names of people with No Last Name -  ('Name',)\n",
      "First Names of people with No Last Name -  ('Estefania',)\n",
      "First Names of people with No Last Name -  ('Destiney',)\n",
      "First Names of people with No Last Name -  ('Jaquelin',)\n",
      "First Names of people with No Last Name -  ('Alfonzo',)\n",
      "First Names of people with No Last Name -  ('Lisandro',)\n",
      "First Names of people with No Last Name -  ('Priscilla',)\n",
      "First Names of people with No Last Name -  ('Elenora',)\n",
      "First Names of people with No Last Name -  ('Rudolph',)\n",
      "First Names of people with No Last Name -  ('Ona',)\n",
      "First Names of people with No Last Name -  ('Rebeca',)\n",
      "First Names of people with No Last Name -  ('Sigurd',)\n",
      "First Names of people with No Last Name -  ('Alice',)\n",
      "First Names of people with No Last Name -  ('Dane',)\n",
      "First Names of people with No Last Name -  ('Judge',)\n",
      "First Names of people with No Last Name -  ('Allene',)\n",
      "First Names of people with No Last Name -  ('Jalen',)\n",
      "First Names of people with No Last Name -  ('Myron',)\n",
      "First Names of people with No Last Name -  ('Travon',)\n",
      "First Names of people with No Last Name -  ('Shayna',)\n",
      "First Names of people with No Last Name -  ('Myah',)\n",
      "First Names of people with No Last Name -  ('Letha',)\n",
      "First Names of people with No Last Name -  ('Felton',)\n",
      "First Names of people with No Last Name -  ('London',)\n",
      "First Names of people with No Last Name -  ('Koby',)\n",
      "First Names of people with No Last Name -  ('Golden',)\n",
      "First Names of people with No Last Name -  ('Anissa',)\n",
      "First Names of people with No Last Name -  ('Sid',)\n",
      "First Names of people with No Last Name -  ('Ernesto',)\n",
      "First Names of people with No Last Name -  ('Josianne',)\n"
     ]
    }
   ],
   "source": [
    "for result in c.execute(\"SELECT count(*) FROM persons where last_name is null\"):\n",
    "    print(\"People Count with No Last Name - \",result)\n",
    "    break\n",
    "# First name of people with no last name\n",
    "for result in c.execute(\"SELECT first_name FROM persons where last_name is null\"):\n",
    "    print(\"First Names of people with No Last Name - \",result)"
   ]
  },
  {
   "cell_type": "code",
   "execution_count": 30,
   "metadata": {},
   "outputs": [
    {
     "name": "stdout",
     "output_type": "stream",
     "text": [
      "[(3,), (3,), (2,), (3,), (2,), (3,), (2,), (2,), (2,), (2,), (2,), (3,), (2,), (3,), (2,), (5,), (2,), (2,), (3,), (3,), (3,), (4,), (2,), (2,), (4,), (3,), (3,), (2,), (2,), (2,), (3,), (3,), (2,), (5,), (3,), (2,), (3,), (3,), (2,), (2,), (3,), (3,), (2,)]\n",
      "People Count with more than 1 PET - (43,)\n"
     ]
    }
   ],
   "source": [
    "#more than one pet\n",
    "c.execute(\"SELECT count(owner_id) FROM  pets GROUP BY owner_id HAVING count(owner_id) > 1\")\n",
    "print(c.fetchall())\n",
    "\n",
    "# add up all the results from previous query\n",
    "for result in c.execute(\"SELECT count(*) FROM (SELECT count(owner_id) FROM  pets GROUP BY owner_id HAVING count(owner_id) > 1)\"):\n",
    "    print(\"People Count with more than 1 PET -\", result)\n",
    "    break"
   ]
  },
  {
   "cell_type": "code",
   "execution_count": 31,
   "metadata": {},
   "outputs": [
    {
     "name": "stdout",
     "output_type": "stream",
     "text": [
      "[(0,), (1,)]\n",
      "Count of Pets with treatment - (36,)\n"
     ]
    }
   ],
   "source": [
    "#which have received treatments\n",
    "c.execute(\"SELECT DISTINCT(treatment_done) FROM pets\")\n",
    "print(c.fetchall())\n",
    "for result in c.execute(\"SELECT count(*) FROM pets WHERE treatment_done=1\"):\n",
    "    print(\"Count of Pets with treatment -\", result)\n",
    "    break"
   ]
  },
  {
   "cell_type": "code",
   "execution_count": 32,
   "metadata": {},
   "outputs": [
    {
     "name": "stdout",
     "output_type": "stream",
     "text": [
      "Count of Pets with treatment - (16,)\n"
     ]
    }
   ],
   "source": [
    "#which have received treatments and type of pet is known\n",
    "for result in c.execute(\"SELECT count(*) FROM pets WHERE treatment_done=1 AND pet_type is not null\"):\n",
    "    print(\"Count of Pets with treatment -\", result)\n",
    "    break"
   ]
  },
  {
   "cell_type": "code",
   "execution_count": null,
   "metadata": {},
   "outputs": [],
   "source": [
    "#east port\n",
    "or result in c.execute(\"SELECT count(*) FROM pets JOIN persons ON pets.owner_id = persons.id where persons.city='east port'\"):\n",
    "    print(\"Count of Pets from east port -\", result)\n",
    "    break"
   ]
  },
  {
   "cell_type": "code",
   "execution_count": 34,
   "metadata": {},
   "outputs": [
    {
     "name": "stdout",
     "output_type": "stream",
     "text": [
      "Count of Pets from east port - (11,)\n"
     ]
    }
   ],
   "source": [
    "#treatments, city and how many\n",
    "for result in c.execute(\"SELECT count(*) FROM pets JOIN persons ON pets.owner_id = persons.id where persons.city='east port' AND pets.treatment_done=1\"):\n",
    "    print(\"Count of Pets from east port -\", result)\n",
    "    break"
   ]
  },
  {
   "cell_type": "code",
   "execution_count": null,
   "metadata": {},
   "outputs": [],
   "source": []
  }
 ],
 "metadata": {
  "kernelspec": {
   "display_name": "Python 3",
   "language": "python",
   "name": "python3"
  },
  "language_info": {
   "codemirror_mode": {
    "name": "ipython",
    "version": 3
   },
   "file_extension": ".py",
   "mimetype": "text/x-python",
   "name": "python",
   "nbconvert_exporter": "python",
   "pygments_lexer": "ipython3",
   "version": "3.8.5"
  }
 },
 "nbformat": 4,
 "nbformat_minor": 4
}
